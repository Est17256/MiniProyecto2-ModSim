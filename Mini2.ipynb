{
 "cells": [
  {
   "cell_type": "markdown",
   "metadata": {},
   "source": [
    "# Universidad del Valle de Guatemala\n",
    "## Guatemala 14 de Septiembre de 2020\n",
    "### Modelacion y Simulacion\n",
    "### Luis Esturban 17256\n",
    "# MiniProyecto 2"
   ]
  },
  {
   "cell_type": "code",
   "execution_count": 292,
   "metadata": {},
   "outputs": [],
   "source": [
    "#Se importan las librerias\n",
    "import matplotlib.pyplot as plt\n",
    "import numpy as np\n",
    "import math\n",
    "import random\n",
    "import time"
   ]
  },
  {
   "cell_type": "markdown",
   "metadata": {},
   "source": [
    "## Ejercicio 2"
   ]
  },
  {
   "cell_type": "code",
   "execution_count": 293,
   "metadata": {},
   "outputs": [
    {
     "data": {
      "image/png": "[encoded data removed]",
      "text/plain": [
       "<Figure size 432x288 with 1 Axes>"
      ]
     },
     "metadata": {
      "needs_background": "light"
     },
     "output_type": "display_data"
    },
    {
     "data": {
      "image/png": "[encoded data removed]",
      "text/plain": [
       "<Figure size 432x288 with 1 Axes>"
      ]
     },
     "metadata": {
      "needs_background": "light"
     },
     "output_type": "display_data"
    }
   ],
   "source": [
    "#Funcion vista en clase para la generacion de pseudorandoms\n",
    "def pseudo(a,m):\n",
    "    def inner_pseudo(xo,n):\n",
    "        items = list(range(n))\n",
    "        items[0]=xo\n",
    "        for i in range(1,n):\n",
    "            items[i]=(a*items[i-1])%m\n",
    "        return [i/ float(m) for i in items]\n",
    "    return inner_pseudo\n",
    "#Valores para la muestra del histograma\n",
    "valores=[0.1,0.2,0.3,0.4]\n",
    "val = []\n",
    "valGraf = {}\n",
    "valAle = []\n",
    "for i in range(4):\n",
    "    temp=0\n",
    "    val.append(valores[i])\n",
    "    if i == 0:\n",
    "        valAle.append(p)\n",
    "    else:\n",
    "        for j in range(len(val)):\n",
    "            temp += val[j]\n",
    "        valAle.append(temp)\n",
    "        temp = 0\n",
    "    valGraf[i] = 0\n",
    "#Se crean los randoms\n",
    "funcion = pseudo(m=2**35-1, a = 5**5)\n",
    "rands = funcion(xo=1, n=10000)\n",
    "#Se calcula para los randoms\n",
    "for i in rands:\n",
    "    if i <= valAle[0]:\n",
    "        valGraf[0] += 1\n",
    "    else:\n",
    "        for i in range(len(valAle)):\n",
    "            if (i > 0):\n",
    "                if (x < valAle[i]) and (x > valAle[i-1]):\n",
    "                    valGraf[i] += 1\n",
    "\n",
    "#Se imprime la grafica de probabilidad\n",
    "fig, axs = plt.subplots()\n",
    "axs.set_title(\"Probabilidad\")\n",
    "axs.bar(valGraf.keys(),val,width=0.8)\n",
    "plt.show()\n",
    "#Se imprime la grafica de randoms\n",
    "fig, axs = plt.subplots()\n",
    "axs.set_title(\"Randoms\")\n",
    "axs.bar(valGraf.keys(), ni.values(),width=0.9)\n",
    "plt.show()"
   ]
  },
  {
   "cell_type": "markdown",
   "metadata": {},
   "source": [
    "### Ejercicio 3"
   ]
  },
  {
   "cell_type": "code",
   "execution_count": 294,
   "metadata": {},
   "outputs": [
    {
     "name": "stdout",
     "output_type": "stream",
     "text": [
      "El porcentaje para 100 Es de 55.0 %\n",
      "El porcentaje para 1000 Es de 54.5 %\n",
      "El porcentaje para 100 Es de 74.0 %\n",
      "El porcentaje para 1000 Es de 73.1 %\n"
     ]
    }
   ],
   "source": [
    "#Se generan los valores aleatorios\n",
    "def normal(mu, sigma):\n",
    "    while True:\n",
    "        y1 = -math.log(random.random())\n",
    "        y2 = -math.log(random.random())\n",
    "        if (y2 - ((y1 - 1) ** 2) / 2) > 0:\n",
    "            y1 = y2 - ((y1 - 1) ** 2) / 2\n",
    "            U = random.random()\n",
    "            if U <= 0.5:\n",
    "                return mu + sigma * y1\n",
    "            else:\n",
    "                return mu - sigma * y1\n",
    "#Valores para las repeticiones\n",
    "iteraciones = [100,1000]\n",
    "ret = 0.1\n",
    "#Se calcula para el hotel con la tabla dada\n",
    "for i in range(len(iteraciones)):\n",
    "    res=[]\n",
    "    cont=0\n",
    "    for j in range(iteraciones[i]): \n",
    "        ini = -800\n",
    "        ini += normal(-800,50) / ((1 + ret) ** 1)\n",
    "        ini += normal(-800,100) / ((1 + ret) ** 2)\n",
    "        ini += normal(-700,150) / ((1 + ret) ** 3) \n",
    "        ini += normal(300,200) / ((1 + ret) ** 4) \n",
    "        ini += normal(400,200) / ((1 + ret) ** 5)\n",
    "        ini += normal(500,200) / ((1 + ret) ** 6)\n",
    "        ini += np.random.uniform(200,8440) / ((1 + ret) ** 7)\n",
    "        res.append(ini)\n",
    "    for k in res:\n",
    "        if k > 0:\n",
    "            cont = cont + 1\n",
    "    print(\"El porcentaje para\",iteraciones[i],\"Es de\",(cont*100)/iteraciones[i],\"%\")\n",
    "#Se calcula para el centro comercial con la tabla dada\n",
    "for i in range(len(iteraciones)):\n",
    "    res=[]\n",
    "    cont=0\n",
    "    for j in range(iteraciones[i]): \n",
    "        ini = -900\n",
    "        ini += normal(-600,50) / ((1 + ret) ** 1) \n",
    "        ini += normal(-200,50) / ((1 + ret) ** 2) \n",
    "        ini += normal(-600,100) / ((1 + ret) ** 3) \n",
    "        ini += normal(250,150) / ((1 + ret) ** 4) \n",
    "        ini += normal(350,150) / ((1 + ret) ** 5) \n",
    "        ini += normal(400,150) / ((1 + ret) ** 6) \n",
    "        ini += np.random.uniform(1600,6000) / ((1 + ret) ** 7)\n",
    "\n",
    "        res.append(ini)\n",
    "    for k in res:\n",
    "        if k > 0:\n",
    "            cont = cont + 1\n",
    "    print(\"El porcentaje para\",iteraciones[i],\"Es de\",(cont*100)/iteraciones[i],\"%\")"
   ]
  },
  {
   "cell_type": "markdown",
   "metadata": {},
   "source": [
    " Como se puede ver en el cuadro anterior los mejores porcentajes los tiene el centro comercial por ello es mejor invertir en el que en el hotel"
   ]
  },
  {
   "cell_type": "code",
   "execution_count": 295,
   "metadata": {},
   "outputs": [
    {
     "name": "stdout",
     "output_type": "stream",
     "text": [
      "Dias 30\n",
      "9 periodicos 270\n",
      "10 periodicos 284\n",
      "11 periodicos 270\n",
      "Dias 365\n",
      "9 periodicos 3555\n",
      "10 periodicos 3696\n",
      "11 periodicos 3525\n",
      "Dias 3650\n",
      "9 periodicos 36405\n",
      "10 periodicos 37952\n",
      "11 periodicos 36353\n"
     ]
    }
   ],
   "source": [
    "prob=[0.3,0.4,0.3]\n",
    "iteraciones = [30,365,3650]\n",
    "cantPeriodico=[0,0,0]\n",
    "totalPeriodico=[[],[],[]]\n",
    "#Se hace un for con para simular los dias a calcular\n",
    "for i in range(len(iteraciones)):\n",
    "    for iteracion in range(iteraciones[i]):\n",
    "        probs = random.random()\n",
    "        if probs <= prob[0]:\n",
    "            cantPeriodico[0] = cantPeriodico[0] + 9\n",
    "            cantPeriodico[1] = cantPeriodico[1] + 8\n",
    "            cantPeriodico[2] = cantPeriodico[2] + 7\n",
    "        elif (probs > prob[0]) and (probs <= (prob[0] + prob[1])):\n",
    "            cantPeriodico[0] = cantPeriodico[0] + 9\n",
    "            cantPeriodico[1] = cantPeriodico[1] + 10\n",
    "            cantPeriodico[2] = cantPeriodico[2] + 9\n",
    "        elif probs > (p9 + p10):\n",
    "            cantPeriodico[0] = cantPeriodico[0] + 9\n",
    "            cantPeriodico[1] = cantPeriodico[1] + 10\n",
    "            cantPeriodico[2] = cantPeriodico[2] + 11\n",
    "        totalPeriodico[0].append(cantPeriodico[0])\n",
    "        totalPeriodico[1].append(cantPeriodico[1])\n",
    "        totalPeriodico[2].append(cantPeriodico[2])\n",
    "    print(\"Dias\",iteraciones[i])\n",
    "    print(\"9 periodicos\",max(totalPeriodico[0]))\n",
    "    print(\"10 periodicos\",max(totalPeriodico[1]))\n",
    "    print(\"11 periodicos\",max(totalPeriodico[2]))"
   ]
  },
  {
   "cell_type": "markdown",
   "metadata": {},
   "source": [
    "Como se puede ver en cada repeticion siempre cuando se compran 10 periodicos se obtienen mas mayores ganacias por ello es mejor comprar todos los dias 10 periodicos"
   ]
  }
 ],
 "metadata": {
  "kernelspec": {
   "display_name": "Python 3",
   "language": "python",
   "name": "python3"
  },
  "language_info": {
   "codemirror_mode": {
    "name": "ipython",
    "version": 3
   },
   "file_extension": ".py",
   "mimetype": "text/x-python",
   "name": "python",
   "nbconvert_exporter": "python",
   "pygments_lexer": "ipython3",
   "version": "3.8.2"
  }
 },
 "nbformat": 4,
 "nbformat_minor": 4
}
